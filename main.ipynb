{
 "cells": [
  {
   "cell_type": "code",
   "execution_count": 33,
   "metadata": {},
   "outputs": [],
   "source": [
    "import os\n",
    "os.environ['OPENAI_API_KEY'] = 'YOUR_API_KEY'"
   ]
  },
  {
   "cell_type": "code",
   "execution_count": 17,
   "metadata": {},
   "outputs": [],
   "source": [
    "import warnings\n",
    "warnings.filterwarnings('ignore')"
   ]
  },
  {
   "cell_type": "code",
   "execution_count": 3,
   "metadata": {},
   "outputs": [],
   "source": [
    "from langchain.chains import RetrievalQA\n",
    "from langchain.vectorstores import Chroma\n",
    "from langchain import OpenAI\n",
    "from langchain.document_loaders import TextLoader\n",
    "from langchain.text_splitter import RecursiveCharacterTextSplitter\n",
    "from langchain.embeddings.openai import OpenAIEmbeddings "
   ]
  },
  {
   "cell_type": "code",
   "execution_count": 6,
   "metadata": {},
   "outputs": [],
   "source": [
    "loader = TextLoader('./inception.txt')\n",
    "document = loader.load()"
   ]
  },
  {
   "cell_type": "code",
   "execution_count": 8,
   "metadata": {},
   "outputs": [],
   "source": [
    "splitter = RecursiveCharacterTextSplitter(chunk_size=2000, chunk_overlap=200)"
   ]
  },
  {
   "cell_type": "code",
   "execution_count": 9,
   "metadata": {},
   "outputs": [],
   "source": [
    "text = splitter.split_documents(document)"
   ]
  },
  {
   "cell_type": "code",
   "execution_count": 13,
   "metadata": {},
   "outputs": [],
   "source": [
    "embeddings = OpenAIEmbeddings()\n",
    "database = Chroma.from_documents(text, embeddings, collection_name='Inception')"
   ]
  },
  {
   "cell_type": "code",
   "execution_count": 15,
   "metadata": {},
   "outputs": [],
   "source": [
    "llm = OpenAI(temperature=0.1)\n",
    "chain = RetrievalQA.from_chain_type(llm, retriever=database.as_retriever())"
   ]
  },
  {
   "cell_type": "code",
   "execution_count": 18,
   "metadata": {},
   "outputs": [
    {
     "name": "stdout",
     "output_type": "stream",
     "text": [
      " The main character of the movie is Cobb.\n"
     ]
    }
   ],
   "source": [
    "print(chain.run('Who was the main character of the movie?'))"
   ]
  },
  {
   "cell_type": "code",
   "execution_count": 29,
   "metadata": {},
   "outputs": [],
   "source": [
    "Questions = ['How does the concept of \"shared dreaming\" work in the world of \"Inception\"?',\n",
    "'What is the significance of the totem, and how does it function for different characters?',\n",
    "'How does personal guilt of Cobb about Mal affect the dream heists and his interactions with the team?',\n",
    "'What role does time dilation play in the different levels of dreams in the movie?',\n",
    "'How does the film explore the theme of reality versus illusion?',\n",
    "'What are the motivations behind the inception mission assigned to Cobb and his team?',\n",
    "'How do the different dream levels visually and thematically differ from each other in the movie?',\n",
    "'What is the significance of the ending scene with the spinning top, and what are some interpretations of it?',\n",
    "'How do the character backgrounds and skills contribute to the success of the inception mission?',\n",
    "'How does the soundtrack, composed by Hans Zimmer, enhance the overall atmosphere and storytelling of \"Inception\"?']"
   ]
  },
  {
   "cell_type": "code",
   "execution_count": 32,
   "metadata": {},
   "outputs": [
    {
     "name": "stdout",
     "output_type": "stream",
     "text": [
      "Question: How does the concept of \"shared dreaming\" work in the world of \"Inception\"?\n",
      "Answer:  In the world of \"Inception,\" shared dreaming is a process where a group of individuals enter into a dream together, allowing them to access and manipulate the subconscious mind of the dreamer. This is achieved through a device called a \"dream machine,\" which allows the dreamers to synchronize their brain waves and enter into a shared dream space. The dreamers can then manipulate the dream environment and interact with each other's subconscious projections. This allows them to extract information or plant ideas in the dreamer's mind. However, the dreamer's subconscious can also become aware of the intrusion and create obstacles or attacks in the dream.\n",
      "Question: What is the significance of the totem, and how does it function for different characters?\n",
      "Answer:  The totem is a small object that each character carries with them to determine whether they are in a dream or reality. It is a personal item that only the owner knows the weight and movement of, making it unique and impossible for anyone else to replicate in a dream. For Cobb, his spinning top serves as a reminder of his wife, Mal, and his guilt over her death. For Arthur, his loaded die represents his need for control and his distrust of others. For Ariadne, her chess piece represents her curiosity and desire to understand the dream world. The totem serves as a way for each character to ground themselves in reality and distinguish it from the dream world.\n",
      "Question: How does personal guilt of Cobb about Mal affect the dream heists and his interactions with the team?\n",
      "Answer:  The personal guilt of Cobb about Mal affects the dream heists and his interactions with the team in several ways. Firstly, it causes him to constantly question his own reality and the reality of the dream world, as Mal's doubts and beliefs about the unreality of their world have been planted in his mind. This makes him more susceptible to Mal's influence and can lead to confusion and mistakes during the dream heists.\n",
      "\n",
      "Secondly, his guilt about performing inception on Mal and causing her to doubt their reality weighs heavily on him and affects his relationships with the team. He is constantly struggling with his own guilt and this can make him distant and closed off from the team, as he is afraid of revealing his true feelings and actions.\n",
      "\n",
      "Lastly, his guilt about not being able to convince Mal to let go of her belief in the unreality of their world also affects his decision-making during the dream heists. He is constantly trying to find a way to escape the dream world and return to reality, which can lead to risky and dangerous choices that put the team in danger. Overall, Cobb's personal guilt about Mal has a significant impact on his actions and interactions with the team during the dream heists.\n",
      "Question: What role does time dilation play in the different levels of dreams in the movie?\n",
      "Answer:  Time dilation is a key element in the movie, as it allows for different levels of dreams to occur simultaneously. In the dream world, time moves slower than in reality, so while only a few minutes may have passed in the real world, hours or even days can pass in the dream. This allows for the characters to go deeper into the dream and manipulate it in different ways, as well as giving them more time to complete their mission. It also adds to the sense of disorientation and confusion for the characters, as they may lose track of how much time has actually passed.\n",
      "Question: How does the film explore the theme of reality versus illusion?\n",
      "Answer:  The film explores the theme of reality versus illusion through the use of dreams and the manipulation of the mind. The characters are able to create and control their own realities within dreams, blurring the lines between what is real and what is not. The main character, Cobb, struggles with the consequences of living in a dream world for too long and the impact it has on his perception of reality. The film also raises questions about the nature of reality and how our minds can deceive us.\n",
      "Question: What are the motivations behind the inception mission assigned to Cobb and his team?\n",
      "Answer:  The mission is to plant an idea in the subconscious mind of Robert Fischer, the heir to a major corporation, to break up his father's empire. This is being done at the request of Saito, who is competing with Fischer's father and wants to gain control of the corporation. Saito believes that if Fischer breaks up the empire, it will benefit him and his company. Cobb is motivated by the promise of being able to go home to his children, but also by the challenge of performing such a complex and difficult task.\n",
      "Question: How do the different dream levels visually and thematically differ from each other in the movie?\n",
      "Answer:  The different dream levels in the movie visually and thematically differ from each other in several ways. \n",
      "\n",
      "Firstly, the dream levels become increasingly surreal and distorted as the characters go deeper into the dream. In the first level, the dream appears relatively normal and realistic, with only small changes and distortions. However, as they go deeper, the dream becomes more chaotic and unpredictable, with gravity and physics behaving differently and the environment becoming more unstable.\n",
      "\n",
      "Secondly, each dream level has its own distinct visual style and setting. The first level takes place in a city, the second level in a hotel, and the third level in a snowy mountain fortress. Each level has its own unique architecture, color palette, and atmosphere, reflecting the subconscious of the dreamer.\n",
      "\n",
      "Thematically, each dream level also represents a different aspect of the characters' psyche. The first level represents the conscious mind, where the characters are in control and can manipulate the dream. The second level represents the subconscious, where repressed thoughts and emotions can manifest in unexpected ways. The third level represents the deepest level of the subconscious, where the characters must confront their inner demons and fears.\n",
      "\n",
      "Overall, the different dream levels in the movie visually and thematically differ to create a sense of progression and increasing danger as the characters\n",
      "Question: What is the significance of the ending scene with the spinning top, and what are some interpretations of it?\n",
      "Answer:  The ending scene with the spinning top is significant because it leaves the audience questioning the reality of the entire film. Throughout the movie, Cobb uses the spinning top as his totem, a physical object that helps him determine whether he is in a dream or reality. If the top keeps spinning, he is in a dream, but if it falls, he is in reality. In the final scene, the top wobbles but does not fall, leaving the audience unsure if Cobb is still in a dream or if he has finally returned to reality. This ending has sparked many interpretations and theories, including the idea that the entire movie is actually a dream and Cobb is stuck in limbo, or that the top falling represents Cobb finally letting go of his guilt and reuniting with his family. Ultimately, the ending is open to interpretation and adds to the overall ambiguity and mystery of the film.\n",
      "Question: How do the character backgrounds and skills contribute to the success of the inception mission?\n",
      "Answer:  The character backgrounds and skills contribute to the success of the inception mission in several ways. First, Cobb's experience as a skilled extractor and his knowledge of the dream world allow him to lead the team and navigate the complex dream layers. His ability to manipulate and control his own subconscious also proves crucial in creating and maintaining the dream world. Additionally, Arthur's expertise in planning and logistics helps the team execute the mission smoothly and efficiently. Eames' skills as a forger and impersonator allow him to create convincing projections and manipulate the dreamer's subconscious. Ariadne's background in architecture and her creativity play a key role in designing and constructing the dream world. Finally, Saito's resources and connections provide the team with the necessary tools and support to carry out the mission. Overall, the diverse backgrounds and skills of the characters complement each other and contribute to the success of the inception mission.\n",
      "Question: How does the soundtrack, composed by Hans Zimmer, enhance the overall atmosphere and storytelling of \"Inception\"?\n",
      "Answer:  The soundtrack in \"Inception\" is a crucial element in creating the intense and suspenseful atmosphere of the film. The use of deep, pulsating bass and eerie, high-pitched strings adds to the sense of unease and tension throughout the movie. The music also helps to build up the intensity of action scenes and heighten the emotional impact of key moments in the story. Additionally, the soundtrack incorporates elements of the film's main theme, \"Time,\" which serves as a recurring motif and ties together the different layers of the dream world. Overall, the soundtrack enhances the storytelling by immersing the audience in the dream world and amplifying the emotions and stakes of the characters.\n"
     ]
    }
   ],
   "source": [
    "for question in Questions:\n",
    "    print(f'Question: {question}')\n",
    "    print(f'Answer: {chain.run(question)}')"
   ]
  },
  {
   "cell_type": "code",
   "execution_count": null,
   "metadata": {},
   "outputs": [],
   "source": []
  }
 ],
 "metadata": {
  "kernelspec": {
   "display_name": "Python 3",
   "language": "python",
   "name": "python3"
  },
  "language_info": {
   "codemirror_mode": {
    "name": "ipython",
    "version": 3
   },
   "file_extension": ".py",
   "mimetype": "text/x-python",
   "name": "python",
   "nbconvert_exporter": "python",
   "pygments_lexer": "ipython3",
   "version": "3.11.5"
  },
  "orig_nbformat": 4
 },
 "nbformat": 4,
 "nbformat_minor": 2
}
